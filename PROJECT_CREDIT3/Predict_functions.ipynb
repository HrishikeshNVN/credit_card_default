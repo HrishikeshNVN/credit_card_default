{
 "cells": [
  {
   "cell_type": "code",
   "execution_count": 17,
   "id": "862b5dd3",
   "metadata": {},
   "outputs": [],
   "source": [
    "from db_operations import Db_Opeartions as db_op\n",
    "from data_pre_process import Data_Pre_Process as dpre\n",
    "import pickle\n",
    "import os\n",
    "import pandas as pd\n",
    "import numpy as np\n",
    "\n",
    "#df = pd.read_csv(\"Data/TRAINED.csv\")\n",
    "#X = df\n",
    "\n",
    "\n",
    "\n",
    "\n",
    "class Predict_Class:\n",
    "    \n",
    "    \n",
    "    def __init__(self,file_obj,logger_obj):\n",
    "        self.file_obj = file_obj\n",
    "        self.logger_obj = logger_obj\n",
    "    def predict(self,data):\n",
    "        \n",
    "        \n",
    "        #Preprocessing new data\n",
    "        dat_pre = dpre(file_obj,logger_obj)\n",
    "        #Cleaning spaces if any\n",
    "        df = dat_pre.space_cleaning(data)\n",
    "        #Removing irrelevant Columns\n",
    "        df = dat_pre.nouse_columns_remove(df)\n",
    "        #Splits data to dependent and independent \n",
    "        dfx = dat_pre.split_dependent_independent(df)\n",
    "        #Checks for null values and if any columns which has nul value returns\n",
    "        cols, null_col_df = dat_pre.checks_for_null(dfx)\n",
    "        #Seperates data to categorical and numerical\n",
    "        df_cat, df_num = dat_pre.seperate_cat_num(dfx)\n",
    "        cols = df_num.columns\n",
    "        df_cat[cols] = df_num[cols].values\n",
    "        #Cleaning categorical data\n",
    "        df_cat = dat_pre.clean_cat_data(df_cat)\n",
    "        #Creates one hot encoding object-dictionary for encoding nominal values\n",
    "        oh_dict = dat_pre.create_one_hot1()\n",
    "        #Performs One hot encoding on nominal values\n",
    "        df_enc = dat_pre.oh_encode1(oh_dict,df_cat)\n",
    "        #Performs frequency encoding on nominal variables which has more unique values in number\n",
    "        df_fr_enc = dat_pre.freq_encode(df_enc)\n",
    "        #Missing numerical values imputation\n",
    "        df_cat_num = dat_pre.impute_missing_num_data(df_fr_enc)\n",
    "        #Scaling the data\n",
    "        df_xcn = dat_pre.scales_data(df_cat_num)\n",
    "        #Identifies the cluster in which the given data belongs to\n",
    "        print(\"Going to clusterr.......\")\n",
    "        \n",
    "        print(df_xcn)\n",
    "        #Kmeans = open(\"models/Kmeans.pkl\",'rb')\n",
    "        #Kms = pickle.load(Kmeans)\n",
    "        #Kmeans.close()\n",
    "        #cluster = Kms.predict(df_xcn)\n",
    "        #print(\"Cluster is \", cluster)\n",
    "        #Finds the model to use based on the cluster\n",
    "        file_list = os.listdir('models/')\n",
    "        filename = self.get_fn(file_list)\n",
    "        #Loading the model\n",
    "        model_file = open(\"models/\"+filename,'rb')\n",
    "        model = pickle.load(model_file)\n",
    "        model_file.close()\n",
    "        #Predicting \n",
    "        predicted_value = model.predict(df_xcn)\n",
    "        df_xcn[\"Y\"] = predicted_value\n",
    "        #Connects with the database\n",
    "        #db_op = db_ops(self.file_obj, self.logger_obj)\n",
    "        #session = db_op.connect_db()\n",
    "        #Inserting the whole data with prediction to database\n",
    "        #db_op.db_input_data(df_xcn,session)\n",
    "\n",
    "        return predicted_value\n",
    "\n",
    "    ##Local function to find the model file to load\n",
    "    def get_fn(self,file_list):\n",
    "        for i in file_list:\n",
    "            if \".pkl\" in i:\n",
    "                 return i\n",
    "    "
   ]
  },
  {
   "cell_type": "code",
   "execution_count": 18,
   "id": "208c1158",
   "metadata": {},
   "outputs": [],
   "source": [
    "import pandas as pd\n",
    "import numpy as np\n",
    "\n",
    "df = pd.read_csv(\"UCI_Credit_Card.csv\")\n",
    "X = df.drop(labels=\"default.payment.next.month\", axis=1)\n",
    "Y = df[\"default.payment.next.month\"]\n",
    "\n"
   ]
  },
  {
   "cell_type": "code",
   "execution_count": 19,
   "id": "c9bae6df",
   "metadata": {},
   "outputs": [
    {
     "data": {
      "text/html": [
       "<div>\n",
       "<style scoped>\n",
       "    .dataframe tbody tr th:only-of-type {\n",
       "        vertical-align: middle;\n",
       "    }\n",
       "\n",
       "    .dataframe tbody tr th {\n",
       "        vertical-align: top;\n",
       "    }\n",
       "\n",
       "    .dataframe thead th {\n",
       "        text-align: right;\n",
       "    }\n",
       "</style>\n",
       "<table border=\"1\" class=\"dataframe\">\n",
       "  <thead>\n",
       "    <tr style=\"text-align: right;\">\n",
       "      <th></th>\n",
       "      <th>id</th>\n",
       "      <th>limit_bal</th>\n",
       "      <th>SEX</th>\n",
       "      <th>EDUCATION</th>\n",
       "      <th>MARRIAGE</th>\n",
       "      <th>AGE</th>\n",
       "      <th>PAY_0</th>\n",
       "      <th>PAY_2</th>\n",
       "      <th>PAY_3</th>\n",
       "      <th>PAY_4</th>\n",
       "      <th>...</th>\n",
       "      <th>BILL_AMT4</th>\n",
       "      <th>BILL_AMT5</th>\n",
       "      <th>BILL_AMT6</th>\n",
       "      <th>PAY_AMT1</th>\n",
       "      <th>PAY_AMT2</th>\n",
       "      <th>PAY_AMT3</th>\n",
       "      <th>PAY_AMT4</th>\n",
       "      <th>PAY_AMT5</th>\n",
       "      <th>PAY_AMT6</th>\n",
       "      <th>default.payment.next.month</th>\n",
       "    </tr>\n",
       "  </thead>\n",
       "  <tbody>\n",
       "    <tr>\n",
       "      <th>14424</th>\n",
       "      <td>14425</td>\n",
       "      <td>210000.0</td>\n",
       "      <td>1</td>\n",
       "      <td>1</td>\n",
       "      <td>2</td>\n",
       "      <td>27</td>\n",
       "      <td>0</td>\n",
       "      <td>0</td>\n",
       "      <td>0</td>\n",
       "      <td>2</td>\n",
       "      <td>...</td>\n",
       "      <td>120763.0</td>\n",
       "      <td>118722.0</td>\n",
       "      <td>121249.0</td>\n",
       "      <td>5650.0</td>\n",
       "      <td>10100.0</td>\n",
       "      <td>4400.0</td>\n",
       "      <td>0.0</td>\n",
       "      <td>4500.0</td>\n",
       "      <td>4500.0</td>\n",
       "      <td>0</td>\n",
       "    </tr>\n",
       "  </tbody>\n",
       "</table>\n",
       "<p>1 rows × 25 columns</p>\n",
       "</div>"
      ],
      "text/plain": [
       "          id  limit_bal  SEX  EDUCATION  MARRIAGE  AGE  PAY_0  PAY_2  PAY_3  \\\n",
       "14424  14425   210000.0    1          1         2   27      0      0      0   \n",
       "\n",
       "       PAY_4  ...  BILL_AMT4  BILL_AMT5  BILL_AMT6  PAY_AMT1  PAY_AMT2  \\\n",
       "14424      2  ...   120763.0   118722.0   121249.0    5650.0   10100.0   \n",
       "\n",
       "       PAY_AMT3  PAY_AMT4  PAY_AMT5  PAY_AMT6  default.payment.next.month  \n",
       "14424    4400.0       0.0    4500.0    4500.0                           0  \n",
       "\n",
       "[1 rows x 25 columns]"
      ]
     },
     "execution_count": 19,
     "metadata": {},
     "output_type": "execute_result"
    }
   ],
   "source": [
    "x = df.sample(1)\n",
    "x"
   ]
  },
  {
   "cell_type": "code",
   "execution_count": 20,
   "id": "40d1f881",
   "metadata": {},
   "outputs": [],
   "source": [
    "import pandas as pd\n",
    "data = [[0,45622,2,1,2,42,2,-1,3,-1,3,1,456,5236,145,256,456,756,1200,6000,200,200,500,500]]\n",
    "\n",
    "dat = pd.DataFrame(data, columns=['ID', 'LIMIT_BAL', 'SEX', 'EDUCATION', 'MARRIAGE', 'AGE', 'PAY_0',\n",
    "       'PAY_2', 'PAY_3', 'PAY_4', 'PAY_5', 'PAY_6', 'BILL_AMT1', 'BILL_AMT2',\n",
    "       'BILL_AMT3', 'BILL_AMT4', 'BILL_AMT5', 'BILL_AMT6', 'PAY_AMT1',\n",
    "       'PAY_AMT2', 'PAY_AMT3', 'PAY_AMT4', 'PAY_AMT5', 'PAY_AMT6'])"
   ]
  },
  {
   "cell_type": "code",
   "execution_count": 21,
   "id": "675a1181",
   "metadata": {},
   "outputs": [
    {
     "data": {
      "text/plain": [
       "24"
      ]
     },
     "execution_count": 21,
     "metadata": {},
     "output_type": "execute_result"
    }
   ],
   "source": [
    "#len(data[0,45622,2,1,2,42,2,-1,3,-1,3,1,456,5236,145,256,456,756,1200,6000,200,200,500,500])\n",
    "len(data[0])"
   ]
  },
  {
   "cell_type": "code",
   "execution_count": 22,
   "id": "dd26dcbc",
   "metadata": {},
   "outputs": [],
   "source": [
    "from application_logging import logger as logr\n",
    "file_obj = open(\"Predict_logs.txt\",\"a+\")\n",
    "logger_obj = logr.App_Logger()\n",
    "pc = Predict_Class(file_obj,logger_obj)"
   ]
  },
  {
   "cell_type": "code",
   "execution_count": 23,
   "id": "0eb756b5",
   "metadata": {},
   "outputs": [
    {
     "name": "stdout",
     "output_type": "stream",
     "text": [
      "RangeIndex(start=0, stop=1, step=1)\n",
      "['SEX_1']\n",
      "[[1.]]\n",
      "RangeIndex(start=0, stop=2, step=1)\n",
      "['MARRIAGE_1', 'MARRIAGE_2']\n",
      "[[1. 0.]]\n",
      "RangeIndex(start=0, stop=3, step=1)\n",
      "['EDUCATION_1', 'EDUCATION_2', 'EDUCATION_3']\n",
      "[[0. 0. 0.]]\n",
      "Going to clusterr.......\n",
      "   PAY_0   PAY_2   PAY_3   PAY_4   PAY_5  PAY_6  LIMIT_BAL  AGE  BILL_AMT1  \\\n",
      "0  0.091  0.2019  0.0084  0.1906  0.0065    0.0      45622   42        456   \n",
      "\n",
      "   BILL_AMT2  ...  PAY_AMT3  PAY_AMT4  PAY_AMT5  PAY_AMT6  SEX_1  MARRIAGE_1  \\\n",
      "0       5236  ...       200       200       500       500    1.0         1.0   \n",
      "\n",
      "   MARRIAGE_2  EDUCATION_1  EDUCATION_2  EDUCATION_3  \n",
      "0         0.0          0.0          0.0          0.0  \n",
      "\n",
      "[1 rows x 26 columns]\n"
     ]
    },
    {
     "name": "stderr",
     "output_type": "stream",
     "text": [
      "C:\\Users\\USER\\anaconda3\\lib\\site-packages\\sklearn\\utils\\extmath.py:847: RuntimeWarning: invalid value encountered in true_divide\n",
      "  updated_mean = (last_sum + new_sum) / updated_sample_count\n",
      "C:\\Users\\USER\\anaconda3\\lib\\site-packages\\sklearn\\utils\\extmath.py:689: RuntimeWarning: Degrees of freedom <= 0 for slice.\n",
      "  result = op(x, *args, **kwargs)\n"
     ]
    }
   ],
   "source": [
    "prblm = pc.predict(dat)"
   ]
  },
  {
   "cell_type": "code",
   "execution_count": 20,
   "id": "46ee9aff",
   "metadata": {},
   "outputs": [],
   "source": [
    "df = pd.read_csv(\"UCI_Credit_Card.csv\")"
   ]
  },
  {
   "cell_type": "code",
   "execution_count": 21,
   "id": "b3ec0976",
   "metadata": {},
   "outputs": [
    {
     "data": {
      "text/plain": [
       "Index(['ID', 'LIMIT_BAL', 'SEX', 'EDUCATION', 'MARRIAGE', 'AGE', 'PAY_0',\n",
       "       'PAY_2', 'PAY_3', 'PAY_4', 'PAY_5', 'PAY_6', 'BILL_AMT1', 'BILL_AMT2',\n",
       "       'BILL_AMT3', 'BILL_AMT4', 'BILL_AMT5', 'BILL_AMT6', 'PAY_AMT1',\n",
       "       'PAY_AMT2', 'PAY_AMT3', 'PAY_AMT4', 'PAY_AMT5', 'PAY_AMT6',\n",
       "       'default.payment.next.month'],\n",
       "      dtype='object')"
      ]
     },
     "execution_count": 21,
     "metadata": {},
     "output_type": "execute_result"
    }
   ],
   "source": [
    "df.columns"
   ]
  },
  {
   "cell_type": "code",
   "execution_count": 24,
   "id": "e1d84f7c",
   "metadata": {},
   "outputs": [
    {
     "data": {
      "text/plain": [
       "array([1], dtype=int64)"
      ]
     },
     "execution_count": 24,
     "metadata": {},
     "output_type": "execute_result"
    }
   ],
   "source": [
    "prblm"
   ]
  },
  {
   "cell_type": "code",
   "execution_count": 64,
   "id": "89ebbd1b",
   "metadata": {},
   "outputs": [
    {
     "data": {
      "text/plain": [
       "array([[9.1000e-02, 2.0190e-01, 8.4000e-03, 1.9060e-01, 6.5000e-03,\n",
       "        0.0000e+00, 4.5622e+04, 4.2000e+01, 4.5600e+02, 5.2360e+03,\n",
       "        1.4500e+02, 2.5600e+02, 4.5600e+02, 7.5600e+02, 1.2000e+03,\n",
       "        6.0000e+03, 2.0000e+02, 2.0000e+02, 5.0000e+02, 5.0000e+02,\n",
       "        1.0000e+00, 1.0000e+00, 0.0000e+00, 0.0000e+00, 0.0000e+00,\n",
       "        0.0000e+00]])"
      ]
     },
     "execution_count": 64,
     "metadata": {},
     "output_type": "execute_result"
    }
   ],
   "source": [
    "import numpy as np\n",
    "np.nan_to_num(prblm[prblm.isnull().values])"
   ]
  },
  {
   "cell_type": "code",
   "execution_count": 69,
   "id": "b62eb172",
   "metadata": {},
   "outputs": [
    {
     "data": {
      "text/html": [
       "<div>\n",
       "<style scoped>\n",
       "    .dataframe tbody tr th:only-of-type {\n",
       "        vertical-align: middle;\n",
       "    }\n",
       "\n",
       "    .dataframe tbody tr th {\n",
       "        vertical-align: top;\n",
       "    }\n",
       "\n",
       "    .dataframe thead th {\n",
       "        text-align: right;\n",
       "    }\n",
       "</style>\n",
       "<table border=\"1\" class=\"dataframe\">\n",
       "  <thead>\n",
       "    <tr style=\"text-align: right;\">\n",
       "      <th></th>\n",
       "      <th>PAY_0</th>\n",
       "      <th>PAY_2</th>\n",
       "      <th>PAY_3</th>\n",
       "      <th>PAY_4</th>\n",
       "      <th>PAY_5</th>\n",
       "      <th>PAY_6</th>\n",
       "      <th>LIMIT_BAL</th>\n",
       "      <th>AGE</th>\n",
       "      <th>BILL_AMT1</th>\n",
       "      <th>BILL_AMT2</th>\n",
       "      <th>...</th>\n",
       "      <th>PAY_AMT3</th>\n",
       "      <th>PAY_AMT4</th>\n",
       "      <th>PAY_AMT5</th>\n",
       "      <th>PAY_AMT6</th>\n",
       "      <th>SEX_1</th>\n",
       "      <th>MARRIAGE_1</th>\n",
       "      <th>MARRIAGE_2</th>\n",
       "      <th>EDUCATION_1</th>\n",
       "      <th>EDUCATION_2</th>\n",
       "      <th>EDUCATION_3</th>\n",
       "    </tr>\n",
       "  </thead>\n",
       "  <tbody>\n",
       "    <tr>\n",
       "      <th>0</th>\n",
       "      <td>0.091</td>\n",
       "      <td>0.2019</td>\n",
       "      <td>0.0084</td>\n",
       "      <td>0.1906</td>\n",
       "      <td>0.0065</td>\n",
       "      <td>0.0</td>\n",
       "      <td>45622</td>\n",
       "      <td>42</td>\n",
       "      <td>456</td>\n",
       "      <td>5236</td>\n",
       "      <td>...</td>\n",
       "      <td>200</td>\n",
       "      <td>200</td>\n",
       "      <td>500</td>\n",
       "      <td>500</td>\n",
       "      <td>1.0</td>\n",
       "      <td>1.0</td>\n",
       "      <td>0.0</td>\n",
       "      <td>0.0</td>\n",
       "      <td>0.0</td>\n",
       "      <td>0.0</td>\n",
       "    </tr>\n",
       "  </tbody>\n",
       "</table>\n",
       "<p>1 rows × 26 columns</p>\n",
       "</div>"
      ],
      "text/plain": [
       "   PAY_0   PAY_2   PAY_3   PAY_4   PAY_5  PAY_6  LIMIT_BAL  AGE  BILL_AMT1  \\\n",
       "0  0.091  0.2019  0.0084  0.1906  0.0065    0.0      45622   42        456   \n",
       "\n",
       "   BILL_AMT2  ...  PAY_AMT3  PAY_AMT4  PAY_AMT5  PAY_AMT6  SEX_1  MARRIAGE_1  \\\n",
       "0       5236  ...       200       200       500       500    1.0         1.0   \n",
       "\n",
       "   MARRIAGE_2  EDUCATION_1  EDUCATION_2  EDUCATION_3  \n",
       "0         0.0          0.0          0.0          0.0  \n",
       "\n",
       "[1 rows x 26 columns]"
      ]
     },
     "execution_count": 69,
     "metadata": {},
     "output_type": "execute_result"
    }
   ],
   "source": [
    "prblm.replace(np.nan, 0)"
   ]
  },
  {
   "cell_type": "code",
   "execution_count": 72,
   "id": "6285ec60",
   "metadata": {},
   "outputs": [
    {
     "data": {
      "text/html": [
       "<div>\n",
       "<style scoped>\n",
       "    .dataframe tbody tr th:only-of-type {\n",
       "        vertical-align: middle;\n",
       "    }\n",
       "\n",
       "    .dataframe tbody tr th {\n",
       "        vertical-align: top;\n",
       "    }\n",
       "\n",
       "    .dataframe thead th {\n",
       "        text-align: right;\n",
       "    }\n",
       "</style>\n",
       "<table border=\"1\" class=\"dataframe\">\n",
       "  <thead>\n",
       "    <tr style=\"text-align: right;\">\n",
       "      <th></th>\n",
       "      <th>PAY_0</th>\n",
       "      <th>PAY_2</th>\n",
       "      <th>PAY_3</th>\n",
       "      <th>PAY_4</th>\n",
       "      <th>PAY_5</th>\n",
       "      <th>PAY_6</th>\n",
       "      <th>LIMIT_BAL</th>\n",
       "      <th>AGE</th>\n",
       "      <th>BILL_AMT1</th>\n",
       "      <th>BILL_AMT2</th>\n",
       "      <th>...</th>\n",
       "      <th>PAY_AMT3</th>\n",
       "      <th>PAY_AMT4</th>\n",
       "      <th>PAY_AMT5</th>\n",
       "      <th>PAY_AMT6</th>\n",
       "      <th>SEX_1</th>\n",
       "      <th>MARRIAGE_1</th>\n",
       "      <th>MARRIAGE_2</th>\n",
       "      <th>EDUCATION_1</th>\n",
       "      <th>EDUCATION_2</th>\n",
       "      <th>EDUCATION_3</th>\n",
       "    </tr>\n",
       "  </thead>\n",
       "  <tbody>\n",
       "    <tr>\n",
       "      <th>0</th>\n",
       "      <td>0.091</td>\n",
       "      <td>0.2019</td>\n",
       "      <td>0.0084</td>\n",
       "      <td>0.1906</td>\n",
       "      <td>0.0065</td>\n",
       "      <td>0.0</td>\n",
       "      <td>45622</td>\n",
       "      <td>42</td>\n",
       "      <td>456</td>\n",
       "      <td>5236</td>\n",
       "      <td>...</td>\n",
       "      <td>200</td>\n",
       "      <td>200</td>\n",
       "      <td>500</td>\n",
       "      <td>500</td>\n",
       "      <td>1.0</td>\n",
       "      <td>1.0</td>\n",
       "      <td>0.0</td>\n",
       "      <td>0.0</td>\n",
       "      <td>0.0</td>\n",
       "      <td>0.0</td>\n",
       "    </tr>\n",
       "  </tbody>\n",
       "</table>\n",
       "<p>1 rows × 26 columns</p>\n",
       "</div>"
      ],
      "text/plain": [
       "   PAY_0   PAY_2   PAY_3   PAY_4   PAY_5  PAY_6  LIMIT_BAL  AGE  BILL_AMT1  \\\n",
       "0  0.091  0.2019  0.0084  0.1906  0.0065    0.0      45622   42        456   \n",
       "\n",
       "   BILL_AMT2  ...  PAY_AMT3  PAY_AMT4  PAY_AMT5  PAY_AMT6  SEX_1  MARRIAGE_1  \\\n",
       "0       5236  ...       200       200       500       500    1.0         1.0   \n",
       "\n",
       "   MARRIAGE_2  EDUCATION_1  EDUCATION_2  EDUCATION_3  \n",
       "0         0.0          0.0          0.0          0.0  \n",
       "\n",
       "[1 rows x 26 columns]"
      ]
     },
     "execution_count": 72,
     "metadata": {},
     "output_type": "execute_result"
    }
   ],
   "source": [
    "prblm.replace([np.inf, -np.inf, np.nan],0)"
   ]
  },
  {
   "cell_type": "code",
   "execution_count": 8,
   "id": "4dc652bf",
   "metadata": {},
   "outputs": [
    {
     "data": {
      "text/plain": [
       "array([1], dtype=int64)"
      ]
     },
     "execution_count": 8,
     "metadata": {},
     "output_type": "execute_result"
    }
   ],
   "source": [
    "prblm"
   ]
  },
  {
   "cell_type": "code",
   "execution_count": 10,
   "id": "e01e1461",
   "metadata": {},
   "outputs": [],
   "source": [
    "x = [[np.nan,5,10,6,759,np.inf]]"
   ]
  },
  {
   "cell_type": "code",
   "execution_count": 11,
   "id": "2506ac3d",
   "metadata": {},
   "outputs": [],
   "source": [
    "x = pd.DataFrame(x)"
   ]
  },
  {
   "cell_type": "code",
   "execution_count": 12,
   "id": "dee23423",
   "metadata": {},
   "outputs": [
    {
     "data": {
      "text/html": [
       "<div>\n",
       "<style scoped>\n",
       "    .dataframe tbody tr th:only-of-type {\n",
       "        vertical-align: middle;\n",
       "    }\n",
       "\n",
       "    .dataframe tbody tr th {\n",
       "        vertical-align: top;\n",
       "    }\n",
       "\n",
       "    .dataframe thead th {\n",
       "        text-align: right;\n",
       "    }\n",
       "</style>\n",
       "<table border=\"1\" class=\"dataframe\">\n",
       "  <thead>\n",
       "    <tr style=\"text-align: right;\">\n",
       "      <th></th>\n",
       "      <th>0</th>\n",
       "      <th>1</th>\n",
       "      <th>2</th>\n",
       "      <th>3</th>\n",
       "      <th>4</th>\n",
       "      <th>5</th>\n",
       "    </tr>\n",
       "  </thead>\n",
       "  <tbody>\n",
       "    <tr>\n",
       "      <th>0</th>\n",
       "      <td>NaN</td>\n",
       "      <td>5</td>\n",
       "      <td>10</td>\n",
       "      <td>6</td>\n",
       "      <td>759</td>\n",
       "      <td>inf</td>\n",
       "    </tr>\n",
       "  </tbody>\n",
       "</table>\n",
       "</div>"
      ],
      "text/plain": [
       "    0  1   2  3    4    5\n",
       "0 NaN  5  10  6  759  inf"
      ]
     },
     "execution_count": 12,
     "metadata": {},
     "output_type": "execute_result"
    }
   ],
   "source": [
    "x"
   ]
  },
  {
   "cell_type": "code",
   "execution_count": 15,
   "id": "59b41883",
   "metadata": {},
   "outputs": [],
   "source": [
    "x.replace(np.inf, 0 , inplace=True)"
   ]
  },
  {
   "cell_type": "code",
   "execution_count": 16,
   "id": "04a011b6",
   "metadata": {},
   "outputs": [
    {
     "data": {
      "text/html": [
       "<div>\n",
       "<style scoped>\n",
       "    .dataframe tbody tr th:only-of-type {\n",
       "        vertical-align: middle;\n",
       "    }\n",
       "\n",
       "    .dataframe tbody tr th {\n",
       "        vertical-align: top;\n",
       "    }\n",
       "\n",
       "    .dataframe thead th {\n",
       "        text-align: right;\n",
       "    }\n",
       "</style>\n",
       "<table border=\"1\" class=\"dataframe\">\n",
       "  <thead>\n",
       "    <tr style=\"text-align: right;\">\n",
       "      <th></th>\n",
       "      <th>0</th>\n",
       "      <th>1</th>\n",
       "      <th>2</th>\n",
       "      <th>3</th>\n",
       "      <th>4</th>\n",
       "      <th>5</th>\n",
       "    </tr>\n",
       "  </thead>\n",
       "  <tbody>\n",
       "    <tr>\n",
       "      <th>0</th>\n",
       "      <td>0.0</td>\n",
       "      <td>5</td>\n",
       "      <td>10</td>\n",
       "      <td>6</td>\n",
       "      <td>759</td>\n",
       "      <td>0.0</td>\n",
       "    </tr>\n",
       "  </tbody>\n",
       "</table>\n",
       "</div>"
      ],
      "text/plain": [
       "     0  1   2  3    4    5\n",
       "0  0.0  5  10  6  759  0.0"
      ]
     },
     "execution_count": 16,
     "metadata": {},
     "output_type": "execute_result"
    }
   ],
   "source": [
    "x"
   ]
  },
  {
   "cell_type": "code",
   "execution_count": null,
   "id": "d90049d3",
   "metadata": {},
   "outputs": [],
   "source": []
  }
 ],
 "metadata": {
  "kernelspec": {
   "display_name": "Python 3",
   "language": "python",
   "name": "python3"
  },
  "language_info": {
   "codemirror_mode": {
    "name": "ipython",
    "version": 3
   },
   "file_extension": ".py",
   "mimetype": "text/x-python",
   "name": "python",
   "nbconvert_exporter": "python",
   "pygments_lexer": "ipython3",
   "version": "3.8.8"
  }
 },
 "nbformat": 4,
 "nbformat_minor": 5
}
